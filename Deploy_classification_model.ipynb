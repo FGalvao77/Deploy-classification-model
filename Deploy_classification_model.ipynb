{
  "nbformat": 4,
  "nbformat_minor": 0,
  "metadata": {
    "colab": {
      "name": "Deploy classification model.ipynb",
      "provenance": [],
      "collapsed_sections": [],
      "authorship_tag": "ABX9TyPaq8aToEjwQ9F0H9Bi6CB3",
      "include_colab_link": true
    },
    "kernelspec": {
      "name": "python3",
      "display_name": "Python 3"
    },
    "language_info": {
      "name": "python"
    }
  },
  "cells": [
    {
      "cell_type": "markdown",
      "metadata": {
        "id": "view-in-github",
        "colab_type": "text"
      },
      "source": [
        "<a href=\"https://colab.research.google.com/github/FGalvao77/Deploy-classification-model/blob/main/Deploy_classification_model.ipynb\" target=\"_parent\"><img src=\"https://colab.research.google.com/assets/colab-badge.svg\" alt=\"Open In Colab\"/></a>"
      ]
    },
    {
      "cell_type": "markdown",
      "source": [
        "## **Deploy classification model**\n",
        "---\n",
        "---"
      ],
      "metadata": {
        "id": "0EQgY4LFA3Xg"
      }
    },
    {
      "cell_type": "markdown",
      "source": [
        "#### **1. Importando as bibliotecas e carregando os dados**\n",
        "---\n",
        "\n"
      ],
      "metadata": {
        "id": "z_oOOS7rYSyF"
      }
    },
    {
      "cell_type": "code",
      "execution_count": null,
      "metadata": {
        "id": "pkKhhpE2m1ZB"
      },
      "outputs": [],
      "source": [
        "# importando as bibliotecas iniciais\n",
        "import numpy as np\n",
        "import matplotlib.pyplot as plt\n",
        "import warnings\n",
        "from sklearn.datasets import make_classification\n",
        "\n",
        "# configurando ambiente \n",
        "np.random.seed(0)\n",
        "np.set_printoptions(precision=2)\n",
        "warnings.filterwarnings('ignore')\n",
        "%matplotlib inline"
      ]
    },
    {
      "cell_type": "code",
      "source": [
        "# utilizando a função \"make_classification\" para gerar dados sintéticos\n",
        "# 15.000 observações com 5 atributos\n",
        "rng = np.random.RandomState(0)\n",
        "X, y = make_classification(n_samples=15_000, n_features=5, random_state=rng)"
      ],
      "metadata": {
        "id": "1JQzJoy12uDM"
      },
      "execution_count": null,
      "outputs": []
    },
    {
      "cell_type": "code",
      "source": [
        "# dimensão dos objetos\n",
        "X.shape, y.shape"
      ],
      "metadata": {
        "colab": {
          "base_uri": "https://localhost:8080/"
        },
        "id": "cRibHs5GL4tc",
        "outputId": "f6147d86-89bd-4336-ebd5-185068fa7ae4"
      },
      "execution_count": null,
      "outputs": [
        {
          "output_type": "execute_result",
          "data": {
            "text/plain": [
              "((15000, 5), (15000,))"
            ]
          },
          "metadata": {},
          "execution_count": 5
        }
      ]
    },
    {
      "cell_type": "code",
      "source": [
        "# visualizando algumas amostras dos dados \"X\" e \"y\"\n",
        "print(f'X:\\n{X[:10]} \\n\\ny:\\n{y[:10]}')"
      ],
      "metadata": {
        "colab": {
          "base_uri": "https://localhost:8080/"
        },
        "id": "D4xQFQ5sm7Jq",
        "outputId": "8c555988-a81e-4501-9c0c-7af62073226a"
      },
      "execution_count": null,
      "outputs": [
        {
          "output_type": "stream",
          "name": "stdout",
          "text": [
            "X:\n",
            "[[ 1.31  0.09  0.47 -0.81  1.48]\n",
            " [-1.36 -1.94  1.45 -0.4   1.03]\n",
            " [ 0.67  1.34 -0.13  0.45 -1.03]\n",
            " [ 1.18  1.32 -0.47  0.1  -0.38]\n",
            " [-1.42 -1.95 -0.42 -0.37  0.96]\n",
            " [ 1.05  0.13 -0.36 -0.61  1.11]\n",
            " [-0.32  0.56  0.26  0.6  -1.18]\n",
            " [-1.84 -0.67  0.43  0.78 -1.34]\n",
            " [-1.74 -0.73 -1.34  0.67 -1.13]\n",
            " [-2.27 -2.8   1.91 -0.37  1.09]] \n",
            "\n",
            "y:\n",
            "[1 0 1 0 0 1 1 0 0 0]\n"
          ]
        }
      ]
    },
    {
      "cell_type": "markdown",
      "source": [
        "#### **2. Tratando os dados, treinando e avaliando os modelos**\n",
        "---\n",
        "---"
      ],
      "metadata": {
        "id": "n-AYcVDRYpXM"
      }
    },
    {
      "cell_type": "markdown",
      "source": [
        "> Vamos utilizar três modelos de classificação:<br>\n",
        "- _Random Forest_;\n",
        "- _Logist Regression_ e,\n",
        "- _MLP_ (RNA - Multi-layer Percepton)."
      ],
      "metadata": {
        "id": "qzxAMDEYYzPV"
      }
    },
    {
      "cell_type": "code",
      "source": [
        "# importando a função para realizar o particionamento dos dados\n",
        "from sklearn.model_selection import train_test_split as tts\n",
        "\n",
        "# separando os dados de treino e teste\n",
        "X_train, X_test, y_train, y_test = tts(X, y, test_size=0.5, random_state=1527, stratify=y)"
      ],
      "metadata": {
        "id": "4dvBYn6lm7G4"
      },
      "execution_count": null,
      "outputs": []
    },
    {
      "cell_type": "code",
      "source": [
        "# importando as funçoes \"random forest\", \" logist regression\" e \"mlp\"\n",
        "from sklearn.ensemble import RandomForestClassifier     # floresta randômica\n",
        "from sklearn.linear_model import LogisticRegression     # regressão logística\n",
        "from sklearn.neural_network import MLPClassifier        # rede neural - multi-layer percepton\n",
        "\n",
        "# importando as funções de métricas\n",
        "from sklearn.metrics import classification_report, recall_score, precision_score\n",
        "\n",
        "# importando a função para visualização gráfica do relatório das métricas do modelo\n",
        "from yellowbrick.classifier import ClassificationReport"
      ],
      "metadata": {
        "id": "JvxZeaWJJkdT"
      },
      "execution_count": null,
      "outputs": []
    },
    {
      "cell_type": "code",
      "source": [
        "# instanciando o modelo de floresta randômica\n",
        "clf_RFC = RandomForestClassifier(n_estimators=1_500, random_state=1527, n_jobs=-1)\n",
        "\n",
        "# treinando o modelo\n",
        "mdl_RFC = clf_RFC.fit(X_train, y_train)\n",
        "\n",
        "# realizando a predição com o modelo após seu treinamento\n",
        "pred_RFC = mdl_RFC.predict(X_test)\n",
        "\n",
        "# visualizando o relatório das métricas do modelo\n",
        "print(classification_report(y_test, pred_RFC))"
      ],
      "metadata": {
        "id": "sTRI7RQVm7Eh",
        "colab": {
          "base_uri": "https://localhost:8080/"
        },
        "outputId": "4357c3e1-8aa7-4b08-988d-22f1940c34a3"
      },
      "execution_count": null,
      "outputs": [
        {
          "output_type": "stream",
          "name": "stdout",
          "text": [
            "              precision    recall  f1-score   support\n",
            "\n",
            "           0       0.92      0.93      0.92      3760\n",
            "           1       0.93      0.91      0.92      3740\n",
            "\n",
            "    accuracy                           0.92      7500\n",
            "   macro avg       0.92      0.92      0.92      7500\n",
            "weighted avg       0.92      0.92      0.92      7500\n",
            "\n"
          ]
        }
      ]
    },
    {
      "cell_type": "code",
      "source": [
        "# visualizando graficamente o relatório das métricas do modelo da floresta randômica\n",
        "viz = ClassificationReport(\n",
        "    RandomForestClassifier(n_estimators=1_500, random_state=1527, n_jobs=-1), \n",
        "    cmap='YlOrRd', support=True\n",
        ")\n",
        "\n",
        "viz.fit(X_train, y_train)\n",
        "viz.score(X_test, y_test)\n",
        "viz.show();"
      ],
      "metadata": {
        "colab": {
          "base_uri": "https://localhost:8080/",
          "height": 401
        },
        "id": "S2eYT1XTvWLZ",
        "outputId": "9f793dc1-c3d5-419f-d9bd-06d41703b652"
      },
      "execution_count": null,
      "outputs": [
        {
          "output_type": "display_data",
          "data": {
            "text/plain": [
              "<Figure size 576x396 with 2 Axes>"
            ],
            "image/png": "[encoded data removed]"
          },
          "metadata": {}
        }
      ]
    },
    {
      "cell_type": "code",
      "source": [
        "# criando um dicionário para salvar as métricas do modelo\n",
        "model_metricsRFC = dict()\n",
        "\n",
        "# instanciando as métricas do modelo no dicionário\n",
        "model_metricsRFC['recall'] = round(recall_score(y_test, pred_RFC), 4)\n",
        "model_metricsRFC['precision'] = round(precision_score(y_test, pred_RFC), 4)\n",
        "\n",
        "# visualizando as métricas\n",
        "model_metricsRFC"
      ],
      "metadata": {
        "colab": {
          "base_uri": "https://localhost:8080/"
        },
        "id": "-_FgeBvznXtg",
        "outputId": "8787a027-d720-4534-daaf-eef25824c87f"
      },
      "execution_count": null,
      "outputs": [
        {
          "output_type": "execute_result",
          "data": {
            "text/plain": [
              "{'precision': 0.9311, 'recall': 0.9144}"
            ]
          },
          "metadata": {},
          "execution_count": 11
        }
      ]
    },
    {
      "cell_type": "code",
      "source": [
        "# instanciando o modelo de regressão logística\n",
        "clf_LR = LogisticRegression(random_state=1527, n_jobs=-1)\n",
        "\n",
        "# treinando o modelo\n",
        "mdl_LR = clf_LR.fit(X_train, y_train)\n",
        "\n",
        "# realizando a predição com o modelo após seu treinamento\n",
        "pred_LR = mdl_LR.predict(X_test)\n",
        "\n",
        "# visualizando o relatório das métricas do modelo\n",
        "print(classification_report(y_test, pred_LR))"
      ],
      "metadata": {
        "colab": {
          "base_uri": "https://localhost:8080/"
        },
        "id": "aLgQfrcXrrFM",
        "outputId": "d33fc39f-213c-4cf3-86ee-896713ce0c2b"
      },
      "execution_count": null,
      "outputs": [
        {
          "output_type": "stream",
          "name": "stdout",
          "text": [
            "              precision    recall  f1-score   support\n",
            "\n",
            "           0       0.93      0.83      0.88      3760\n",
            "           1       0.85      0.94      0.89      3740\n",
            "\n",
            "    accuracy                           0.88      7500\n",
            "   macro avg       0.89      0.88      0.88      7500\n",
            "weighted avg       0.89      0.88      0.88      7500\n",
            "\n"
          ]
        }
      ]
    },
    {
      "cell_type": "code",
      "source": [
        "# visualizando graficamente o relatório das métricas do modelo de regressão logística\n",
        "viz = ClassificationReport(\n",
        "    LogisticRegression(random_state=1227, n_jobs=-1), \n",
        "    cmap='YlOrRd', support=True\n",
        ")\n",
        "\n",
        "viz.fit(X_train, y_train)\n",
        "viz.score(X_test, y_test)\n",
        "viz.show();"
      ],
      "metadata": {
        "colab": {
          "base_uri": "https://localhost:8080/",
          "height": 401
        },
        "id": "2bA8yQFNwnM5",
        "outputId": "286ba0b4-6671-49cb-f4e6-5f1294c55fc6"
      },
      "execution_count": null,
      "outputs": [
        {
          "output_type": "display_data",
          "data": {
            "text/plain": [
              "<Figure size 576x396 with 2 Axes>"
            ],
            "image/png": "[encoded data removed]"
          },
          "metadata": {}
        }
      ]
    },
    {
      "cell_type": "code",
      "source": [
        "# criando um dicionário para salvar as métricas do modelo\n",
        "model_metricsLR = dict()\n",
        "\n",
        "# instanciando as métricas do modelo no dicionário\n",
        "model_metricsLR['recall'] = round(recall_score(y_test, pred_LR), 4)\n",
        "model_metricsLR['precision'] = round(precision_score(y_test, pred_LR), 4)\n",
        "\n",
        "# visualizando as métricas\n",
        "model_metricsLR"
      ],
      "metadata": {
        "colab": {
          "base_uri": "https://localhost:8080/"
        },
        "id": "KSBZO27pwnKG",
        "outputId": "379dddd3-cadf-4b4a-9b9e-e992ff065874"
      },
      "execution_count": null,
      "outputs": [
        {
          "output_type": "execute_result",
          "data": {
            "text/plain": [
              "{'precision': 0.8479, 'recall': 0.9364}"
            ]
          },
          "metadata": {},
          "execution_count": 14
        }
      ]
    },
    {
      "cell_type": "code",
      "source": [
        "# instanciando o modelo de rede neural do tipo multi-layer percepton\n",
        "clf_MLP = MLPClassifier(max_iter=1_500, random_state=1527)\n",
        "\n",
        "# treinando o modelo\n",
        "mdl_MLP = clf_MLP.fit(X_train, y_train)\n",
        "\n",
        "# realizando a predição com o modelo após seu treinamento\n",
        "pred_MLP = mdl_MLP.predict(X_test)\n",
        "\n",
        "# visualizando o relatório das métricas do modelo\n",
        "print(classification_report(y_test, pred_MLP))"
      ],
      "metadata": {
        "id": "R9ZjVIsqserG",
        "colab": {
          "base_uri": "https://localhost:8080/"
        },
        "outputId": "55a17a08-0232-4639-8f31-7b2c0ea09249"
      },
      "execution_count": null,
      "outputs": [
        {
          "output_type": "stream",
          "name": "stdout",
          "text": [
            "              precision    recall  f1-score   support\n",
            "\n",
            "           0       0.93      0.92      0.92      3760\n",
            "           1       0.92      0.93      0.92      3740\n",
            "\n",
            "    accuracy                           0.92      7500\n",
            "   macro avg       0.92      0.92      0.92      7500\n",
            "weighted avg       0.92      0.92      0.92      7500\n",
            "\n"
          ]
        }
      ]
    },
    {
      "cell_type": "code",
      "source": [
        "# visualizando graficamente o relatório das métricas do modelo de rede neural do tipo multi-layer percepton\n",
        "viz = ClassificationReport(\n",
        "    MLPClassifier(max_iter=1_500, random_state=1527), \n",
        "    cmap='YlOrRd', support=True\n",
        ")\n",
        "\n",
        "viz.fit(X_train, y_train)\n",
        "viz.score(X_test, y_test)\n",
        "viz.show();"
      ],
      "metadata": {
        "colab": {
          "base_uri": "https://localhost:8080/",
          "height": 401
        },
        "id": "57MAAnrT0sn3",
        "outputId": "f91ae582-be47-4a60-d1ab-0c0817c212c8"
      },
      "execution_count": null,
      "outputs": [
        {
          "output_type": "display_data",
          "data": {
            "text/plain": [
              "<Figure size 576x396 with 2 Axes>"
            ],
            "image/png": "[encoded data removed]"
          },
          "metadata": {}
        }
      ]
    },
    {
      "cell_type": "code",
      "source": [
        "# criando um dicionário para salvar as métricas do modelo\n",
        "model_metricsMLP = dict()\n",
        "\n",
        "# instanciando as métricas do modelo no dicionário\n",
        "model_metricsMLP['recall'] = round(recall_score(y_test, pred_MLP), 4)\n",
        "model_metricsMLP['precision'] = round(precision_score(y_test, pred_MLP), 4)\n",
        "\n",
        "# visualizando as métricas\n",
        "model_metricsMLP"
      ],
      "metadata": {
        "colab": {
          "base_uri": "https://localhost:8080/"
        },
        "id": "2bwc0Kry0_aU",
        "outputId": "4939ffcb-99b5-478d-e40e-527a53609ebc"
      },
      "execution_count": null,
      "outputs": [
        {
          "output_type": "execute_result",
          "data": {
            "text/plain": [
              "{'precision': 0.9175, 'recall': 0.9278}"
            ]
          },
          "metadata": {},
          "execution_count": 17
        }
      ]
    },
    {
      "cell_type": "code",
      "source": [
        "# visualizando as métricas dos modelos\n",
        "print( \n",
        "        '                   MODELS METRICS',\n",
        "    '+' * 60,\n",
        "    f'Random Forest:     {model_metricsRFC}', \n",
        "    f'Logist Regression: {model_metricsLR}', \n",
        "    f'MLP:               {model_metricsMLP}', \n",
        "    '+' * 60,\n",
        "    sep='\\n')"
      ],
      "metadata": {
        "colab": {
          "base_uri": "https://localhost:8080/"
        },
        "id": "FmbLfexY1n5Q",
        "outputId": "9897aa57-8e76-4d68-8243-3257efb1931a"
      },
      "execution_count": null,
      "outputs": [
        {
          "output_type": "stream",
          "name": "stdout",
          "text": [
            "                   MODELS METRICS\n",
            "++++++++++++++++++++++++++++++++++++++++++++++++++++++++++++\n",
            "Random Forest:     {'recall': 0.9144, 'precision': 0.9311}\n",
            "Logist Regression: {'recall': 0.9364, 'precision': 0.8479}\n",
            "MLP:               {'recall': 0.9278, 'precision': 0.9175}\n",
            "++++++++++++++++++++++++++++++++++++++++++++++++++++++++++++\n"
          ]
        }
      ]
    },
    {
      "cell_type": "markdown",
      "source": [
        "#### **3. Preparando os dados para o _deploy_**\n",
        "---\n",
        "---"
      ],
      "metadata": {
        "id": "ks58w91_aDxE"
      }
    },
    {
      "cell_type": "code",
      "source": [
        "# criando pastas: \"metrics\", \"models\" e \"templates\"\n",
        "!mkdir metrics      # para salvar as métricas do modelos\n",
        "!mkdir models       # para salvar os modelos\n",
        "!mkdir templates    # para salvar o template/home"
      ],
      "metadata": {
        "id": "QFAlZklB0_X-"
      },
      "execution_count": null,
      "outputs": []
    },
    {
      "cell_type": "code",
      "source": [
        "# salvando as métricas em arquivo do tipo \"json\" na pasta \"metrics\"\n",
        "import json\n",
        "\n",
        "with open('metrics/model_metrics_version_RFC.json', 'w') as fp:\n",
        "    json.dump(model_metricsRFC, fp)\n",
        "\n",
        "with open('metrics/model_metrics_version_LR.json', 'w') as fp:\n",
        "    json.dump(model_metricsLR, fp)\n",
        "\n",
        "with open('metrics/model_metrics_version_MLP.json', 'w') as fp:\n",
        "    json.dump(model_metricsMLP, fp)"
      ],
      "metadata": {
        "id": "x6MoGSgntbLn"
      },
      "execution_count": null,
      "outputs": []
    },
    {
      "cell_type": "code",
      "source": [
        "# salvando as métricas na pasta \"models\"\n",
        "from joblib import dump, load\n",
        "\n",
        "print(\n",
        "    dump(mdl_RFC, 'models/mdl_RFC.joblib'),\n",
        "    dump(mdl_LR, 'models/mdl_LR.joblib'),\n",
        "    dump(mdl_MLP, 'models/mdl_MLP.joblib'), sep='\\n'\n",
        "    ) "
      ],
      "metadata": {
        "colab": {
          "base_uri": "https://localhost:8080/"
        },
        "id": "NtC6c-NotbDc",
        "outputId": "78b13a2e-0989-425d-e22f-76882c972b16"
      },
      "execution_count": null,
      "outputs": [
        {
          "output_type": "stream",
          "name": "stdout",
          "text": [
            "['models/mdl_RFC.joblib']\n",
            "['models/mdl_LR.joblib']\n",
            "['models/mdl_MLP.joblib']\n"
          ]
        }
      ]
    },
    {
      "cell_type": "markdown",
      "source": [
        "```html\n",
        "<!-- arquivo home.html -->\n",
        "<h1 style=\"text-align: center;\"><strong>Deploy APP</strong><span style=\"color: #0000ff;\">-</span> Data Science PRO</h1>\n",
        "<h2 style=\"text-align: center;\"><strong>API - Previsão</strong></h2>\n",
        "<p style=\"text-align: center;\">&nbsp;</p>\n",
        "<p style=\"text-align: center;\">&nbsp;</p>\n",
        "<h2 style=\"text-align: center;\">INSIRA OS DADOS<span style=\"color: #0000ff;\">.</span></h2>\n",
        "\n",
        "<div class=\"login\">\n",
        "    \n",
        "<form action=\"{{url_for('predict')}}\" method='POST'>\n",
        "<h3 style=\"text-align: center;\"><strong>Dado 1: </strong><input type=\"text\" name=\"x1\" placeholder=\"dado 1\" required=\"required\"/>.</h3>\n",
        "<h3 style=\"text-align: center;\"><strong>Dado 2: </strong><input type=\"text\" name=\"x2\" placeholder=\"dado 2\" required=\"required\"/>.</h3>\n",
        "<h3 style=\"text-align: center;\"><strong>Dado 3: </strong><input type=\"text\" name=\"x3\" placeholder=\"dado 3\" required=\"required\"/>.</h3>\n",
        "<h3 style=\"text-align: center;\"><strong>Dado 4: </strong><input type=\"text\" name=\"x4\" placeholder=\"dado 4\" required=\"required\"/>.</h3>\n",
        "<h3 style=\"text-align: center;\"><strong>Dado 5: </strong><input type=\"text\" name=\"x5\" placeholder=\"dado 5\" required=\"required\"/>.</h3>\n",
        "<h3 style=\"text-align: center;\"><button type=\"submit\" class=\"btn btn-primary btn-block btn-large\"><strong>CLIQUE AQUI!</strong></button></h1>\n",
        "</form>\n",
        " \n",
        "\n",
        "<p style=\"text-align: center;\">&nbsp;</p>\n",
        "<h2 style=\"text-align: center;\"><strong>PREDIÇÕES</strong>&nbsp;</h2>\n",
        ".<p style=\"text-align: center;\"><strong>1o model | </strong><strong>{{pred_RFC}}</strong> <span style=\"color: #0000ff;\">.</span></p>\n",
        ".<p style=\"text-align: center;\"><strong>2o model | </strong><strong>{{pred_LR}}</strong> <span style=\"color: #0000ff;\">.</span></p>\n",
        ".<p style=\"text-align: center;\"><strong>3o model | </strong><strong>{{pred_MLP}}</strong> <span style=\"color: #0000ff;\">.</span></p>\n",
        "\n",
        "```"
      ],
      "metadata": {
        "id": "x71ShxN9SI_s"
      }
    },
    {
      "cell_type": "code",
      "source": [
        "# criar o arquivo \"app.py\" para realizar o deploy do modelo\n",
        "from joblib import dump, load\n",
        "from flask import Flask, request, url_for, redirect, render_template, jsonify\n",
        "import numpy as np\n",
        "import pandas as pd\n",
        "import json\n",
        "import warnings\n",
        "warnings.filterwarnings('ignore')\n",
        "\n",
        "# models\n",
        "model_RFC = load('models/mdl_RFC.joblib')\n",
        "model_LR = load('models/mdl_LR.joblib')\n",
        "model_MLP = load('models/mdl_MLP.joblib')\n",
        "\n",
        "app = Flask(__name__)\n",
        "\n",
        "@app.route('/')\n",
        "def home():\n",
        "    return render_template('home.html')\n",
        "\n",
        "@app.route('/predict', methods=['POST'])\n",
        "def predict():\n",
        "    # request of all inputs\n",
        "    features = [x for x in request.form.values()]\n",
        "    \n",
        "    # data preparing\n",
        "    features_array = np.array(features)\n",
        "    pandas_features = pd.DataFrame([features_array])\n",
        "\n",
        "    print('features: ', features)\n",
        "    print('features_array: ', features_array)\n",
        "    \n",
        "    # predict\n",
        "    pred_RFC = model_RFC.predict(pandas_features)\n",
        "    print(f'Random Forest: {pred_RFC}')\n",
        "\n",
        "    pred_LR = model_LR.predict(pandas_features) \n",
        "    print(f'Logist Regression: {pred_LR}')\n",
        "\n",
        "    pred_MLP = model_MLP.predict(pandas_features)\n",
        "    print(f'MLP: {pred_MLP}')\n",
        "\n",
        "    prediction_RFC = int(pred_RFC[0])\n",
        "    prediction_LR = int(pred_LR[0])\n",
        "    prediction_MLP = int(pred_MLP[0])\n",
        "\n",
        "    return render_template('home.html', \n",
        "                            pred_RFC = 'prediction Random Forest: {}'.format(prediction_RFC),\n",
        "                            pred_LR= 'prediction Logist Regression: {}'.format(prediction_LR),\n",
        "                            pred_MLP = 'prediction MLP [RNA - Multi-layer Percepton]: {}'.format(prediction_MLP)\n",
        "                            )\n",
        "\n",
        "@app.route('/model_health/<model_id>', methods=['GET'])\n",
        "def model_health(model_id):\n",
        "    with open('metrics/model_metrics_version_{0}.json'.format(model_id)) as f:\n",
        "        model_metrics = json.load(f)    \n",
        "        return model_metrics\n",
        "\n",
        "if __name__ == '__main__':\n",
        "    app.debug = True\n",
        "    app.run()"
      ],
      "metadata": {
        "id": "icuhHV8CudQI"
      },
      "execution_count": null,
      "outputs": []
    },
    {
      "cell_type": "markdown",
      "source": [
        "#### **4. Outros**\n",
        "---\n",
        "---"
      ],
      "metadata": {
        "id": "bhR5nzMEbpNs"
      }
    },
    {
      "cell_type": "code",
      "source": [
        "# instalando session_info para salvar as versões das bibliotecas/funções utilizadas no notebook.\n",
        "!pip install session_info"
      ],
      "metadata": {
        "id": "7A7YyJb3K9uv",
        "colab": {
          "base_uri": "https://localhost:8080/"
        },
        "outputId": "e5680725-c47b-48c5-be24-4dd5d2ffc357"
      },
      "execution_count": null,
      "outputs": [
        {
          "output_type": "stream",
          "name": "stdout",
          "text": [
            "Looking in indexes: https://pypi.org/simple, https://us-python.pkg.dev/colab-wheels/public/simple/\n",
            "Collecting session_info\n",
            "  Downloading session_info-1.0.0.tar.gz (24 kB)\n",
            "Collecting stdlib_list\n",
            "  Downloading stdlib_list-0.8.0-py3-none-any.whl (63 kB)\n",
            "\u001b[K     |████████████████████████████████| 63 kB 1.7 MB/s \n",
            "\u001b[?25hBuilding wheels for collected packages: session-info\n",
            "  Building wheel for session-info (setup.py) ... \u001b[?25l\u001b[?25hdone\n",
            "  Created wheel for session-info: filename=session_info-1.0.0-py3-none-any.whl size=8048 sha256=eb5c833f70c35c9b7faa7a8ec9fc7e481af90e75a4a63e4834d0ea14c7de53da\n",
            "  Stored in directory: /root/.cache/pip/wheels/bd/ad/14/6a42359351a18337a8683854cfbba99dd782271f2d1767f87f\n",
            "Successfully built session-info\n",
            "Installing collected packages: stdlib-list, session-info\n",
            "Successfully installed session-info-1.0.0 stdlib-list-0.8.0\n"
          ]
        }
      ]
    },
    {
      "cell_type": "code",
      "source": [
        "# importando a biblioteca\n",
        "import session_info as si\n",
        "\n",
        "# visualizando as versões das bibliotecas e/ou funções utilizadas no notebook\n",
        "si.show(html=False)"
      ],
      "metadata": {
        "id": "7w6msbMuKbEW",
        "colab": {
          "base_uri": "https://localhost:8080/"
        },
        "outputId": "9bc21cee-7dee-43c6-fd65-e48cd4add141"
      },
      "execution_count": null,
      "outputs": [
        {
          "output_type": "stream",
          "name": "stdout",
          "text": [
            "-----\n",
            "joblib              1.1.0\n",
            "matplotlib          3.2.2\n",
            "numpy               1.21.6\n",
            "session_info        1.0.0\n",
            "sklearn             1.0.2\n",
            "yellowbrick         1.4\n",
            "-----\n",
            "IPython             5.5.0\n",
            "jupyter_client      5.3.5\n",
            "jupyter_core        4.11.1\n",
            "notebook            5.3.1\n",
            "-----\n",
            "Python 3.7.13 (default, Apr 24 2022, 01:04:09) [GCC 7.5.0]\n",
            "Linux-5.4.188+-x86_64-with-Ubuntu-18.04-bionic\n",
            "-----\n",
            "Session information updated at 2022-08-02 11:02\n"
          ]
        }
      ]
    },
    {
      "cell_type": "code",
      "source": [
        "# instalando a biblioteca \"watermark\"\n",
        "!pip install -q -U watermark \n",
        "# essa biblioteca é usado para gravar as versões dos pacotes usados neste notebook"
      ],
      "metadata": {
        "id": "opweF79hlOg7"
      },
      "execution_count": null,
      "outputs": []
    },
    {
      "cell_type": "code",
      "source": [
        "# versões das bibliotecas utilizadas nesse notebook\n",
        "%reload_ext watermark\n",
        "%watermark -a 'Fernando Galvão | Deploy classification model #Mentorama 2022' --iversions"
      ],
      "metadata": {
        "id": "ELR0dUrVV4b0",
        "colab": {
          "base_uri": "https://localhost:8080/"
        },
        "outputId": "2cf557a5-4910-4ce3-ff63-833ad82fe34a"
      },
      "execution_count": null,
      "outputs": [
        {
          "output_type": "stream",
          "name": "stdout",
          "text": [
            "Author: Fernando Galvão | Deploy classification model #Mentorama 2022\n",
            "\n",
            "numpy       : 1.21.6\n",
            "session_info: 1.0.0\n",
            "matplotlib  : 3.2.2\n",
            "json        : 2.0.9\n",
            "IPython     : 5.5.0\n",
            "\n"
          ]
        }
      ]
    },
    {
      "cell_type": "code",
      "source": [
        ""
      ],
      "metadata": {
        "id": "Rruedv5rVzqy"
      },
      "execution_count": null,
      "outputs": []
    },
    {
      "cell_type": "code",
      "source": [
        ""
      ],
      "metadata": {
        "id": "wqy0UWfyefuN"
      },
      "execution_count": null,
      "outputs": []
    },
    {
      "cell_type": "code",
      "source": [
        ""
      ],
      "metadata": {
        "id": "5DnTFFHyefeW"
      },
      "execution_count": null,
      "outputs": []
    }
  ]
}